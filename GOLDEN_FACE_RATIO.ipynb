{
  "nbformat": 4,
  "nbformat_minor": 0,
  "metadata": {
    "colab": {
      "name": "GOLDEN_FACE_RATIO.ipynb",
      "provenance": [],
      "collapsed_sections": [],
      "mount_file_id": "1goqjeG6vCOdNAb67D8mWFNZ_uE0zBFMS",
      "authorship_tag": "ABX9TyOyk+OXPf45awtWLq58CRps",
      "include_colab_link": true
    },
    "kernelspec": {
      "name": "python3",
      "display_name": "Python 3"
    },
    "language_info": {
      "name": "python"
    },
    "gpuClass": "standard",
    "accelerator": "GPU"
  },
  "cells": [
    {
      "cell_type": "markdown",
      "metadata": {
        "id": "view-in-github",
        "colab_type": "text"
      },
      "source": [
        "<a href=\"https://colab.research.google.com/github/NguyenDuyHoangQN/ann/blob/main/GOLDEN_FACE_RATIO.ipynb\" target=\"_parent\"><img src=\"https://colab.research.google.com/assets/colab-badge.svg\" alt=\"Open In Colab\"/></a>"
      ]
    },
    {
      "cell_type": "code",
      "source": [
        "# Import the libraries\n",
        "import os\n",
        "import numpy as np\n",
        "import PIL.Image as Image\n",
        "import tensorflow as tf\n",
        "import matplotlib.pyplot as plt"
      ],
      "metadata": {
        "id": "WJEviJW9mgCA"
      },
      "execution_count": 7,
      "outputs": []
    },
    {
      "cell_type": "code",
      "source": [
        "\n",
        "base_dir = '/content/drive/MyDrive/face/face_data/'\n",
        "\n",
        "# Validate that the categories present are what you'd expect\n",
        "os.listdir(base_dir)"
      ],
      "metadata": {
        "colab": {
          "base_uri": "https://localhost:8080/"
        },
        "id": "Q9613XEInTzM",
        "outputId": "0aadf86c-ecf7-4ff2-9a56-eaf0247692e9"
      },
      "execution_count": 8,
      "outputs": [
        {
          "output_type": "execute_result",
          "data": {
            "text/plain": [
              "['round', 'oval', 'heart', 'oblong', 'square']"
            ]
          },
          "metadata": {},
          "execution_count": 8
        }
      ]
    },
    {
      "cell_type": "code",
      "source": [
        "# Set the image side and batch size. Becasue we will be using MobileNetV2, we will set the image size to 224x224. \n",
        "# For more information, see: https://keras.io/applications/#mobilenetv2\n",
        "IMAGE_SIZE = 224  \n",
        "BATCH_SIZE = 64\n",
        "NUMBER_OF_LABELS = len(os.listdir(base_dir)) \n",
        "\n",
        "# Create data generator with appropriate scaling and train/validation split\n",
        "datagen = tf.keras.preprocessing.image.ImageDataGenerator(\n",
        "    rescale=1./255, \n",
        "    validation_split=0.2)\n",
        "\n",
        "# Create training dataset\n",
        "train_generator = datagen.flow_from_directory(\n",
        "    base_dir,\n",
        "    target_size=(IMAGE_SIZE, IMAGE_SIZE),\n",
        "    batch_size=BATCH_SIZE, \n",
        "    subset='training')\n",
        "\n",
        "# Create validation dataset\n",
        "val_generator = datagen.flow_from_directory(\n",
        "    base_dir,\n",
        "    target_size=(IMAGE_SIZE, IMAGE_SIZE),\n",
        "    batch_size=BATCH_SIZE, \n",
        "    subset='validation')"
      ],
      "metadata": {
        "colab": {
          "base_uri": "https://localhost:8080/"
        },
        "id": "mf9iShr5na4p",
        "outputId": "72381aa1-fbe2-4c20-e378-ca75d6bfd3cb"
      },
      "execution_count": 9,
      "outputs": [
        {
          "output_type": "stream",
          "name": "stdout",
          "text": [
            "Found 400 images belonging to 5 classes.\n",
            "Found 100 images belonging to 5 classes.\n"
          ]
        }
      ]
    },
    {
      "cell_type": "code",
      "source": [
        "# Create labels.txt file, which we will need to export and save for use in our app\n",
        "print (train_generator.class_indices)\n",
        "\n",
        "labels = '\\n'.join(sorted(train_generator.class_indices.keys()))\n",
        "\n",
        "with open('labels.txt', 'w') as f:\n",
        "  f.write(labels)"
      ],
      "metadata": {
        "colab": {
          "base_uri": "https://localhost:8080/"
        },
        "id": "YB7ko4dsndsg",
        "outputId": "3adf8220-20db-4402-9903-1e0fd453def5"
      },
      "execution_count": 10,
      "outputs": [
        {
          "output_type": "stream",
          "name": "stdout",
          "text": [
            "{'heart': 0, 'oblong': 1, 'oval': 2, 'round': 3, 'square': 4}\n"
          ]
        }
      ]
    },
    {
      "cell_type": "code",
      "source": [
        "# Set the image shape based on the image size specified above. \n",
        "IMG_SHAPE = (IMAGE_SIZE, IMAGE_SIZE, 3) \n",
        "\n",
        "# Create the base model from the pre-trained model MobileNet V2\n",
        "base_model = tf.keras.applications.MobileNetV2(\n",
        "    input_shape=IMG_SHAPE,\n",
        "    include_top=False, \n",
        "    weights='imagenet')\n",
        "\n",
        "# Freeze the base_model\n",
        "base_model.trainable = False\n",
        "\n",
        "# Add classification layers on top of the base model\n",
        "model = tf.keras.Sequential([\n",
        "  base_model,\n",
        "  tf.keras.layers.Conv2D(32, 3, activation='relu'),\n",
        "  tf.keras.layers.Dropout(0.2),\n",
        "  tf.keras.layers.GlobalAveragePooling2D(),\n",
        "  tf.keras.layers.Dense(NUMBER_OF_LABELS, activation='softmax')\n",
        "])\n",
        "\n",
        "\n",
        "# Compile the model. The optimal loss function depends on the type of model you want to build. \n",
        "# This article provides a thorough summary: https://machinelearningmastery.com/how-to-choose-loss-functions-when-training-deep-learning-neural-networks/\n",
        "model.compile(\n",
        "    optimizer=tf.keras.optimizers.Adam(), \n",
        "    loss='categorical_crossentropy',\n",
        "    metrics=['accuracy'])\n",
        "\n",
        "# To get a summary of the model, uncomment the line below\n",
        "#model.summary()"
      ],
      "metadata": {
        "id": "93rjxRoJnfdI"
      },
      "execution_count": 69,
      "outputs": []
    },
    {
      "cell_type": "code",
      "source": [
        "# Train the model. This will likely take a few minutes. Increasing the number of epochs will increase the model training time, and can be tuned for optimal accuracy.  \n",
        "history = model.fit(\n",
        "    train_generator, \n",
        "    epochs=20, \n",
        "    validation_data=val_generator)"
      ],
      "metadata": {
        "colab": {
          "base_uri": "https://localhost:8080/"
        },
        "id": "3Ez2ZjSVnjrv",
        "outputId": "f02552d1-b6ce-45d4-b29c-6b3dfb9629df"
      },
      "execution_count": 70,
      "outputs": [
        {
          "output_type": "stream",
          "name": "stdout",
          "text": [
            "Epoch 1/20\n",
            "7/7 [==============================] - 5s 411ms/step - loss: 4.8899 - accuracy: 0.1950 - val_loss: 3.1130 - val_accuracy: 0.2100\n",
            "Epoch 2/20\n",
            "7/7 [==============================] - 2s 247ms/step - loss: 2.0568 - accuracy: 0.2475 - val_loss: 1.5686 - val_accuracy: 0.3000\n",
            "Epoch 3/20\n",
            "7/7 [==============================] - 2s 280ms/step - loss: 1.5877 - accuracy: 0.2225 - val_loss: 1.5861 - val_accuracy: 0.2900\n",
            "Epoch 4/20\n",
            "7/7 [==============================] - 2s 256ms/step - loss: 1.5492 - accuracy: 0.2800 - val_loss: 1.5535 - val_accuracy: 0.2600\n",
            "Epoch 5/20\n",
            "7/7 [==============================] - 2s 261ms/step - loss: 1.5168 - accuracy: 0.3050 - val_loss: 1.5633 - val_accuracy: 0.2500\n",
            "Epoch 6/20\n",
            "7/7 [==============================] - 2s 249ms/step - loss: 1.4858 - accuracy: 0.3150 - val_loss: 1.5720 - val_accuracy: 0.3000\n",
            "Epoch 7/20\n",
            "7/7 [==============================] - 2s 261ms/step - loss: 1.4557 - accuracy: 0.3375 - val_loss: 1.5636 - val_accuracy: 0.2400\n",
            "Epoch 8/20\n",
            "7/7 [==============================] - 2s 246ms/step - loss: 1.4312 - accuracy: 0.3950 - val_loss: 1.6161 - val_accuracy: 0.2500\n",
            "Epoch 9/20\n",
            "7/7 [==============================] - 2s 256ms/step - loss: 1.4013 - accuracy: 0.3700 - val_loss: 1.5969 - val_accuracy: 0.2800\n",
            "Epoch 10/20\n",
            "7/7 [==============================] - 2s 256ms/step - loss: 1.3715 - accuracy: 0.3875 - val_loss: 1.5780 - val_accuracy: 0.2600\n",
            "Epoch 11/20\n",
            "7/7 [==============================] - 2s 287ms/step - loss: 1.3721 - accuracy: 0.4225 - val_loss: 1.7009 - val_accuracy: 0.2400\n",
            "Epoch 12/20\n",
            "7/7 [==============================] - 2s 258ms/step - loss: 1.3256 - accuracy: 0.4375 - val_loss: 1.6293 - val_accuracy: 0.2700\n",
            "Epoch 13/20\n",
            "7/7 [==============================] - 2s 256ms/step - loss: 1.2845 - accuracy: 0.4450 - val_loss: 1.6369 - val_accuracy: 0.2700\n",
            "Epoch 14/20\n",
            "7/7 [==============================] - 2s 257ms/step - loss: 1.2620 - accuracy: 0.4850 - val_loss: 1.6723 - val_accuracy: 0.2400\n",
            "Epoch 15/20\n",
            "7/7 [==============================] - 2s 257ms/step - loss: 1.2278 - accuracy: 0.5050 - val_loss: 1.7610 - val_accuracy: 0.2200\n",
            "Epoch 16/20\n",
            "7/7 [==============================] - 2s 251ms/step - loss: 1.1985 - accuracy: 0.5000 - val_loss: 1.6789 - val_accuracy: 0.2600\n",
            "Epoch 17/20\n",
            "7/7 [==============================] - 2s 251ms/step - loss: 1.1721 - accuracy: 0.5275 - val_loss: 1.7203 - val_accuracy: 0.2400\n",
            "Epoch 18/20\n",
            "7/7 [==============================] - 2s 286ms/step - loss: 1.1479 - accuracy: 0.5250 - val_loss: 1.7449 - val_accuracy: 0.2200\n",
            "Epoch 19/20\n",
            "7/7 [==============================] - 2s 285ms/step - loss: 1.1210 - accuracy: 0.5550 - val_loss: 1.7588 - val_accuracy: 0.2400\n",
            "Epoch 20/20\n",
            "7/7 [==============================] - 2s 253ms/step - loss: 1.0881 - accuracy: 0.5450 - val_loss: 1.7322 - val_accuracy: 0.2500\n"
          ]
        }
      ]
    },
    {
      "cell_type": "code",
      "source": [
        "# Begin the fine-tuning process by allowing training of the base_model\n",
        "base_model.trainable = True\n",
        "\n",
        "# This print statement will tell us the number of layers in the base model\n",
        "print(\"Number of layers in the base model: \", len(base_model.layers))\n",
        "\n",
        "# Fine tune from this layer onwards. This number must be less than len(base_model.layers)). In this example, we've chosen 100. \n",
        "fine_tune_at = 100\n",
        "\n",
        "# Freeze all the layers before the `fine_tune_at` layer\n",
        "for layer in base_model.layers[:fine_tune_at]:\n",
        "  layer.trainable =  False\n",
        "  \n",
        "# Compile the model. Note that we have chosen a different optimizer from previously\n",
        "model.compile(\n",
        "    optimizer = tf.keras.optimizers.Adam(1e-5),\n",
        "    loss='categorical_crossentropy',\n",
        "    metrics=['accuracy'])"
      ],
      "metadata": {
        "colab": {
          "base_uri": "https://localhost:8080/"
        },
        "id": "AAArIQ-1VDIs",
        "outputId": "37efb1c0-bf70-4a60-c169-30fdc98b2727"
      },
      "execution_count": 76,
      "outputs": [
        {
          "output_type": "stream",
          "name": "stdout",
          "text": [
            "Number of layers in the base model:  154\n"
          ]
        }
      ]
    },
    {
      "cell_type": "code",
      "source": [
        "# Train the model, fine tuning this time. \n",
        "history_fine = model.fit(\n",
        "    train_generator, \n",
        "    epochs=20,\n",
        "    validation_data=val_generator)"
      ],
      "metadata": {
        "colab": {
          "base_uri": "https://localhost:8080/"
        },
        "id": "CMEMRgX-VG1R",
        "outputId": "d518079a-5b21-48c6-8711-5233f8642eb0"
      },
      "execution_count": 77,
      "outputs": [
        {
          "output_type": "stream",
          "name": "stdout",
          "text": [
            "Epoch 1/20\n",
            "7/7 [==============================] - 6s 420ms/step - loss: 0.6733 - accuracy: 0.7725 - val_loss: 1.8678 - val_accuracy: 0.2100\n",
            "Epoch 2/20\n",
            "7/7 [==============================] - 2s 297ms/step - loss: 0.6637 - accuracy: 0.7475 - val_loss: 1.8510 - val_accuracy: 0.2100\n",
            "Epoch 3/20\n",
            "7/7 [==============================] - 2s 267ms/step - loss: 0.6668 - accuracy: 0.7400 - val_loss: 1.8305 - val_accuracy: 0.2200\n",
            "Epoch 4/20\n",
            "7/7 [==============================] - 2s 256ms/step - loss: 0.6632 - accuracy: 0.7775 - val_loss: 1.8254 - val_accuracy: 0.2300\n",
            "Epoch 5/20\n",
            "7/7 [==============================] - 2s 297ms/step - loss: 0.6590 - accuracy: 0.7700 - val_loss: 1.8166 - val_accuracy: 0.2400\n",
            "Epoch 6/20\n",
            "7/7 [==============================] - 2s 268ms/step - loss: 0.6581 - accuracy: 0.7775 - val_loss: 1.8208 - val_accuracy: 0.2400\n",
            "Epoch 7/20\n",
            "7/7 [==============================] - 2s 264ms/step - loss: 0.6510 - accuracy: 0.7675 - val_loss: 1.8338 - val_accuracy: 0.2300\n",
            "Epoch 8/20\n",
            "7/7 [==============================] - 2s 265ms/step - loss: 0.6502 - accuracy: 0.7725 - val_loss: 1.8450 - val_accuracy: 0.2200\n",
            "Epoch 9/20\n",
            "7/7 [==============================] - 2s 265ms/step - loss: 0.6465 - accuracy: 0.7900 - val_loss: 1.8486 - val_accuracy: 0.2200\n",
            "Epoch 10/20\n",
            "7/7 [==============================] - 2s 254ms/step - loss: 0.6414 - accuracy: 0.7825 - val_loss: 1.8534 - val_accuracy: 0.2200\n",
            "Epoch 11/20\n",
            "7/7 [==============================] - 2s 261ms/step - loss: 0.6438 - accuracy: 0.7850 - val_loss: 1.8648 - val_accuracy: 0.2200\n",
            "Epoch 12/20\n",
            "7/7 [==============================] - 2s 264ms/step - loss: 0.6378 - accuracy: 0.7775 - val_loss: 1.8869 - val_accuracy: 0.2100\n",
            "Epoch 13/20\n",
            "7/7 [==============================] - 2s 271ms/step - loss: 0.6400 - accuracy: 0.7525 - val_loss: 1.9043 - val_accuracy: 0.2000\n",
            "Epoch 14/20\n",
            "7/7 [==============================] - 2s 267ms/step - loss: 0.6348 - accuracy: 0.7700 - val_loss: 1.9161 - val_accuracy: 0.1900\n",
            "Epoch 15/20\n",
            "7/7 [==============================] - 2s 290ms/step - loss: 0.6391 - accuracy: 0.7650 - val_loss: 1.9226 - val_accuracy: 0.1900\n",
            "Epoch 16/20\n",
            "7/7 [==============================] - 2s 293ms/step - loss: 0.6344 - accuracy: 0.7750 - val_loss: 1.9163 - val_accuracy: 0.2200\n",
            "Epoch 17/20\n",
            "7/7 [==============================] - 2s 302ms/step - loss: 0.6329 - accuracy: 0.7775 - val_loss: 1.9247 - val_accuracy: 0.2100\n",
            "Epoch 18/20\n",
            "7/7 [==============================] - 2s 268ms/step - loss: 0.6323 - accuracy: 0.7650 - val_loss: 1.9297 - val_accuracy: 0.2100\n",
            "Epoch 19/20\n",
            "7/7 [==============================] - 2s 261ms/step - loss: 0.6332 - accuracy: 0.7650 - val_loss: 1.9381 - val_accuracy: 0.2000\n",
            "Epoch 20/20\n",
            "7/7 [==============================] - 2s 267ms/step - loss: 0.6249 - accuracy: 0.7700 - val_loss: 1.9431 - val_accuracy: 0.2000\n"
          ]
        }
      ]
    },
    {
      "cell_type": "code",
      "source": [
        "# Plotting accuracy and loss\n",
        "acc = history_fine.history['accuracy']\n",
        "val_acc = history_fine.history['val_accuracy']\n",
        "\n",
        "loss = history_fine.history['loss']\n",
        "val_loss = history_fine.history['val_loss']\n",
        "\n",
        "plt.figure(figsize=(8, 8))\n",
        "plt.subplot(2, 1, 1)\n",
        "plt.plot(acc, label='Training Accuracy')\n",
        "plt.plot(val_acc, label='Validation Accuracy')\n",
        "plt.legend(loc='lower right')\n",
        "plt.ylabel('Accuracy')\n",
        "plt.ylim([min(plt.ylim()),1])\n",
        "plt.title('Training and Validation Accuracy')\n",
        "\n",
        "plt.subplot(2, 1, 2)\n",
        "plt.plot(loss, label='Training Loss')\n",
        "plt.plot(val_loss, label='Validation Loss')\n",
        "plt.legend(loc='upper right')\n",
        "plt.ylabel('Cross Entropy')\n",
        "plt.ylim([0,1.0])\n",
        "plt.title('Training and Validation Loss')\n",
        "plt.xlabel('epoch')\n",
        "plt.show()"
      ],
      "metadata": {
        "colab": {
          "base_uri": "https://localhost:8080/",
          "height": 513
        },
        "id": "vcuviAobgTQj",
        "outputId": "b7a33862-9e73-4b19-ec81-155b3a267d17"
      },
      "execution_count": 66,
      "outputs": [
        {
          "output_type": "display_data",
          "data": {
            "text/plain": [
              "<Figure size 576x576 with 2 Axes>"
            ],
            "image/png": "[encoded data removed]"
          },
          "metadata": {
            "needs_background": "light"
          }
        }
      ]
    },
    {
      "cell_type": "code",
      "source": [
        "saved_model_dir = 'save/fine_tuning.h5'\n",
        "model.save(saved_model_dir)"
      ],
      "metadata": {
        "id": "kakNDUN4g3Ym"
      },
      "execution_count": 21,
      "outputs": []
    },
    {
      "cell_type": "code",
      "source": [
        "from PIL import Image, ImageDraw\n",
        "import face_recognition\n",
        "import scipy.constants\n",
        "import numpy as np\n",
        "\n",
        "photo = \"/content/drive/MyDrive/train/validation/BINH/BINH20.png\"  \n",
        "\n",
        "\n",
        "# Load the jpg file into a numpy array\n",
        "image = face_recognition.load_image_file(photo)\n",
        "\n",
        "# Find all facial features in ll the faces in the image\n",
        "face_landmarks_list = face_recognition.face_landmarks(\n",
        "    image)  # (0,0) is upper left corner\n",
        "\n",
        "if (len(face_landmarks_list)) > 1:\n",
        "    print(\"Sorry, there are too many faces in the image. Only use image of one face.\")\n",
        "elif (len(face_landmarks_list)) == 0:\n",
        "    print(\"Sorry, no image was detected in the image. Please, try again.\")\n",
        "\n",
        "\n",
        "# Create a PIL imagedraw object so we can draw on the picture\n",
        "pil_image = Image.fromarray(image)\n",
        "d = ImageDraw.Draw(pil_image)\n",
        "\n",
        "nose_top = []\n",
        "\n",
        "# extraction of coordinates\n",
        "lists = []\n",
        "\n",
        "for face_landmarks in face_landmarks_list:\n",
        "\n",
        "    # Print the location of each facial feature in this image\n",
        "    for facial_feature in face_landmarks.keys():\n",
        "        # first list is chin, 2nd list is left eyebrow, 3rd is right eyebrow, 4th is nose bridge, 5th is nose tip, 6th is left eye, 7th is right eye, 8th is top lip, 9th is bottom lip\n",
        "        lists.append(face_landmarks[facial_feature])\n",
        "    n = 0\n",
        "    # Let's trace out each facial feature in the image with a line!\n",
        "    for facial_feature in face_landmarks.keys():\n",
        "        n = n+1\n",
        "        m = str(n)\n",
        "        d.point(face_landmarks[facial_feature])\n",
        "\n",
        "# Show the picture\n",
        "pil_image.show()\n",
        "\n",
        "chin = []\n",
        "left_eyebrow = []\n",
        "right_eyebrow = []\n",
        "nose_bridge = []\n",
        "nose_tip = []\n",
        "left_eye = []\n",
        "right_eye = []\n",
        "top_lip = []\n",
        "bottom_lip = []\n",
        "\n",
        "chin.append(lists[0])\n",
        "left_eyebrow.append(lists[1])\n",
        "right_eyebrow.append(lists[2])\n",
        "nose_bridge.append(lists[3])\n",
        "nose_tip.append(lists[4])\n",
        "left_eye.append(lists[5])\n",
        "right_eye.append(lists[6])\n",
        "top_lip.append(lists[7])\n",
        "bottom_lip.append(lists[8])\n",
        "\n",
        "# distance from the top of the nose to the centre of the lips should be 1.618 times the distance\n",
        "# from the centre of the lips to the chin\n",
        "# ---> top of nose is the 1st point, centre of lips is the half-way point of the y-component of the 10th point, bottom of chin is the 9th point\n",
        "(x1, y1) = nose_bridge[0][0]\n",
        "(x2, y2) = top_lip[0][9]\n",
        "(x3, y3) = bottom_lip[0][9]\n",
        "(x4, y4) = chin[0][8]\n",
        "a = (((y2+y3)/2)-y1)\n",
        "b = ((y4-((y2+y3)/2)))\n",
        "# (should equal scipy.constants.golden)\n",
        "value1 = ((b/a)/(scipy.constants.golden))*100\n",
        "\n",
        "# length of your face divided by the width of your face\n",
        "# ---> width can be taken at the cheekbones (1st point and 17th point), length can be taken 1st point of chin and 9th point of chin\n",
        "(x1, y1) = chin[0][0]\n",
        "(x2, y2) = chin[0][16]\n",
        "(x3, y3) = chin[0][8]\n",
        "a = x2-x1\n",
        "b = y3-y1\n",
        "value2 = ((b/a)/scipy.constants.golden)*100\n",
        "\n",
        "\n",
        "# NOSE: (nose length divided by nose width)/1.618 = percentage score of nose Phi ratio\n",
        "# if nose ratio smaller than PHi\n",
        "# ---> nose length = all 5 points on y-axis of nose bridge\n",
        "# ---> nose width = 5th point of nose tip minus 1st point on x-axis\n",
        "(x1, y1) = nose_bridge[0][3]\n",
        "(x2, y2) = nose_tip[0][4]\n",
        "value3 = ((y1/x2)/(scipy.constants.golden))*100\n",
        "\n",
        "\n",
        "# EYEBROWS: measure your eyebrow from the end nearest to your nose to the arch in a straight line\n",
        "# = Arch Length\n",
        "# ---> use pythagorean theorem, 3rd point, and 5th point\n",
        "(x1, y1) = left_eyebrow[0][2]\n",
        "(x2, y2) = left_eyebrow[0][4]\n",
        "(x3, y3) = right_eyebrow[0][0]\n",
        "(x4, y4) = right_eyebrow[0][2]\n",
        "a1 = x2-x1\n",
        "b1 = y1-y2\n",
        "a2 = x4-x3\n",
        "b2 = y3-y4\n",
        "result1 = np.sqrt((a1**2)+(b1**2))\n",
        "result2 = np.sqrt((a2**2)+(b2**2))\n",
        "# measure eyebrow from the same end to the opposite tip in a straight line = full length\n",
        "# ---> use pythagorean theorem\n",
        "(x1, y1) = left_eyebrow[0][0]\n",
        "(x2, y2) = left_eyebrow[0][4]\n",
        "(x3, y3) = right_eyebrow[0][0]\n",
        "(x4, y4) = right_eyebrow[0][4]\n",
        "a1 = x2-x1\n",
        "b1 = y1-y2\n",
        "a2 = x4-x3\n",
        "b2 = y4-y3\n",
        "result3 = np.sqrt((a1**2)+(b1**2))\n",
        "result4 = np.sqrt((a2**2)+(b2**2))\n",
        "# divide full length by arch length = eyebrow ratio ---> arch length/full length since arch length is always lower than full length\n",
        "value4 = ((result1/result3)/(scipy.constants.golden))*100  # left eyebrow\n",
        "value5 = ((result2/result4)/(scipy.constants.golden))*100  # right eyebrow\n",
        "\n",
        "\n",
        "# LIPS: measure the length of the lip from end to end = Lip Length\n",
        "# Divide Lip Length by Nose Width\n",
        "(x1, y1) = top_lip[0][0]\n",
        "(x2, y2) = bottom_lip[0][0]\n",
        "(x3, y3) = nose_tip[0][0]\n",
        "(x4, y4) = nose_tip[0][4]\n",
        "a1 = x2-x1\n",
        "b1 = x4-x3\n",
        "value6 = ((b1/a1)/(scipy.constants.golden)) * \\\n",
        "    100  # not included in final measurement\n",
        "\n",
        "\n",
        "# the distance from the corner of the lip to the opposite edge of the nose should also be\n",
        "# ---> use pythagorean theorem\n",
        "# equal to Base of Nose * 1.618\n",
        "(x1, y1) = top_lip[0][0]\n",
        "(x2, y2) = nose_tip[0][4]\n",
        "(x3, y3) = bottom_lip[0][0]\n",
        "(x4, y4) = nose_tip[0][0]\n",
        "a1 = x2-x1\n",
        "b1 = y1-y2\n",
        "a2 = x3-x4\n",
        "b2 = y3-y4\n",
        "c1 = x2-x4\n",
        "result1 = np.sqrt((a1**2)+(b1**2))\n",
        "result2 = np.sqrt((a2**2)+(b2**2))\n",
        "value7 = ((c1/result1)/(scipy.constants.golden))*100\n",
        "value8 = ((c1/result2)/(scipy.constants.golden))*100\n",
        "\n",
        "# from the forehead hairline to a spot between the eyes, from between the eyes to the bottom\n",
        "# of the nose, and from the bottom of the nose to the bottom of the chin, numbers should be equal\n",
        "# ---> hairline = ????\n",
        "# ---> 1st nose point to last nose point\n",
        "# ---> from last nose point to 9th nose point   all y-axis\n",
        "# (x1,y1)=nose_bridge[0][0]\n",
        "# (x2,y2)=nose_tip[0][2]\n",
        "# (x3,y2)=chin[0][8]\n",
        "# result1=y2-y1\n",
        "# result2=y3-y2\n",
        "# value20=(result1-result2)\n",
        "\n",
        "\n",
        "# length of an ear is equal to the length of the nose, and the width of an eye is equal to the\n",
        "# distance between eyes\n",
        "# --->length of ear???\n",
        "# ---> 1st point and 4th point = width of an eye x-axis\n",
        "# ---> 4th point of right eye and 1st point of left eye x-axis\n",
        "(x1, y1) = left_eye[0][0]\n",
        "(x2, y2) = left_eye[0][3]\n",
        "(x3, y3) = right_eye[0][0]\n",
        "(x4, y4) = right_eye[0][3]\n",
        "a1 = x2-x1\n",
        "b1 = x4-x3\n",
        "c1 = x3-x2\n",
        "# result1=c1-a1\n",
        "# result2=c1-b1\n",
        "\n",
        "# distance between eyes divided by the length of the eye should equal phi\n",
        "# ---> 1st point and 4th point = width of an eye x-axis\n",
        "# ---> 4th point of right eye and 1st point of left eye x-axis\n",
        "value9 = ((a1/c1)/(scipy.constants.golden))*100  # left eye\n",
        "value10 = ((b1/c1)/(scipy.constants.golden))*100  # right eye\n",
        "\n",
        "\n",
        "# distance from the nose to the edge of the eye, divided by the distance from the edge of the eye\n",
        "# to the corner of the lips should equal phi\n",
        "(x1, y1) = nose_tip[0][2]\n",
        "(x2, y2) = right_eye[0][3]\n",
        "(x3, y3) = bottom_lip[0][0]\n",
        "(x4, y4) = top_lip[0][0]\n",
        "(x5, y5) = left_eye[0][0]\n",
        "a1 = x2-x1\n",
        "b1 = y1-y2\n",
        "result1 = np.sqrt((a1**2)+(b1**2))\n",
        "a2 = x2-x3\n",
        "b2 = y3-y2\n",
        "result2 = np.sqrt((a2**2)+(b2**2))\n",
        "a3 = x1-x5\n",
        "b3 = y1-y5\n",
        "result3 = np.sqrt((a3**2)+(b3**2))\n",
        "a4 = x4-x5\n",
        "b4 = y4-y5\n",
        "result4 = np.sqrt((a4**2)+(b4**2))\n",
        "value11 = ((result1/result2)/(scipy.constants.golden))*100\n",
        "value12 = ((result3/result4)/(scipy.constants.golden))*100\n",
        "# width of lips divided by the length and length of nose divided by the width\n",
        "# ---> upper: length = 7th point - 1st point on x-axis; width = 4th point - 10th point on y-axis\n",
        "# ---> lower: length = 1st point - 7th point on x - axis; width = 4th point - 10th point on y-axis\n",
        "# length\n",
        "(x1, y1) = top_lip[0][0]\n",
        "(x2, y2) = top_lip[0][6]\n",
        "(x3, y3) = bottom_lip[0][6]\n",
        "(x4, y4) = bottom_lip[0][0]\n",
        "# width\n",
        "(x5, y5) = top_lip[0][3]\n",
        "(x6, y6) = top_lip[0][9]\n",
        "(x7, y7) = bottom_lip[0][3]\n",
        "(x8, y8) = bottom_lip[0][9]\n",
        "a1 = x2-x1\n",
        "b1 = y6-y5\n",
        "value13 = ((b1/a1)/(scipy.constants.golden))*100  # unused measurements\n",
        "a2 = x4-x3\n",
        "b2 = y7-y8\n",
        "value14 = ((b1/a1)/(scipy.constants.golden))*100  # unused value\n",
        "\n",
        "(x9, y9) = nose_tip[0][2]\n",
        "(x10, y10) = nose_bridge[0][0]\n",
        "(x11, y11) = nose_tip[0][0]\n",
        "(x12, y12) = nose_tip[0][4]\n",
        "a1 = y9-y10\n",
        "b1 = x12-x11\n",
        "value15 = ((b1/a1)/(scipy.constants.golden))*100  # unused value\n",
        "\n",
        "# width of the chin just below the lip should be 1.618 the length of the lip\n",
        "# -----> width of chin = 13th point - 5th point on x-axis\n",
        "# ---> length of lip = 1st point - 7th point on x-axis\n",
        "(x1, y1) = chin[0][7]\n",
        "(x2, y2) = chin[0][9]\n",
        "a1 = x2-x1\n",
        "(x3, y3) = bottom_lip[0][6]\n",
        "(x4, y4) = bottom_lip[0][0]\n",
        "b1 = x4-x3\n",
        "value16 = ((a1/b1)/(scipy.constants.golden))*100\n",
        "\n",
        "# while calculating the final beauty rating, eyebrows and eyes are considered as one value and not split into right and left, since ratings that include forehead and ears are missing additional points have been removed (a total of 400 points), also the corner of lip/nose ratio is considered to be one, value11 and value12 count as one, value9 and value10 considered as one\n",
        "finalvalue = ((value1+value2+value3+value4+value5+value6+value7 +\n",
        "              value8+value9+value10+value11+value12+value16)/600)*100\n",
        "\n",
        "#\n",
        "print(\"\")\n",
        "print(\"--------------------------------------------------------------------------\")\n",
        "\n",
        "print(\"The beauty ratio of your nose is....................:\", value3, \"%\")\n",
        "print(\"The beauty ratio of your right eyebrow is...........:\", value4, \"%\")\n",
        "print(\"The beauty ratio of your left eyebrow is............:\", value5, \"%\")\n",
        "print(\"The beauty ratio of your lips is....................:\", value6, \"%\")\n",
        "print(\"The beauty ratio of your right eye is...............:\", value9, \"%\")\n",
        "print(\"The beauty ratio of your left eye is................:\", value10, \"%\")\n",
        "print(\"Congradulations! Your total beauty score is.........:\", finalvalue, \"%\")\n",
        "\n",
        "print(\"--------------------------------------------------------------------------\")\n",
        "print(\"\")\n",
        "\n"
      ],
      "metadata": {
        "colab": {
          "base_uri": "https://localhost:8080/"
        },
        "id": "dOuWaSBJhP1o",
        "outputId": "934d1aad-09a5-4478-b761-97c17ede2f99"
      },
      "execution_count": 4,
      "outputs": [
        {
          "output_type": "stream",
          "name": "stdout",
          "text": [
            "Welcome to the facial beauty calculator. This program will perform various calculations on the face in any image you provide based on calculations performed on the face of many beauty models and compare the results to the golden ratio. Please, provide images where the entire face is included. The face in the image should be expressionless and relaxed for best results. Any expressions may change the results.\n",
            "Results are provided for some individual landmarks and properties of the face. Then a total beauty score is calculated.\n",
            "Additionally, a comparison between the photo of the face and the computationally generated perfect face is calculated. This comparison is independent of the first measurements.\n",
            "Please, enjoy!\n",
            "\n",
            "--------------------------------------------------------------------------\n",
            "The beauty ratio of your nose is....................: 59.03608250745263 %\n",
            "The beauty ratio of your right eyebrow is...........: 35.157668928337515 %\n",
            "The beauty ratio of your left eyebrow is............: 33.40442729942476 %\n",
            "The beauty ratio of your lips is....................: 38.418329030398866 %\n",
            "The beauty ratio of your right eye is...............: 35.0219260291607 %\n",
            "The beauty ratio of your left eye is................: 37.08203932499369 %\n",
            "Congradulations! Your total beauty score is.........: 92.6107394640069 %\n",
            "--------------------------------------------------------------------------\n",
            "\n"
          ]
        }
      ]
    }
  ]
}